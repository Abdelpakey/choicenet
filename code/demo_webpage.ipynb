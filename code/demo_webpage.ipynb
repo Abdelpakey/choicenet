{
 "cells": [
  {
   "cell_type": "markdown",
   "metadata": {},
   "source": [
    "# Make a webpage"
   ]
  },
  {
   "cell_type": "code",
   "execution_count": 1,
   "metadata": {},
   "outputs": [
    {
     "name": "stdout",
     "output_type": "stream",
     "text": [
      "Packages loaded.\n"
     ]
    }
   ],
   "source": [
    "import os,scipy.misc,cv2,nbloader\n",
    "import numpy as np\n",
    "import matplotlib.pyplot as plt\n",
    "from glob import glob\n",
    "from main_reg_config import *\n",
    "%matplotlib inline  \n",
    "%config InlineBackend.figure_format = 'retina'\n",
    "print (\"Packages loaded.\")"
   ]
  },
  {
   "cell_type": "markdown",
   "metadata": {},
   "source": [
    "### Helper functions"
   ]
  },
  {
   "cell_type": "code",
   "execution_count": 2,
   "metadata": {},
   "outputs": [],
   "source": [
    "def imread_float(path, is_grayscale = False):\n",
    "    img_bgr = cv2.imread(path)\n",
    "    if (is_grayscale):\n",
    "        return cv2.cvtColor(img_bgr, cv2.COLOR_BGR2GRAY)\n",
    "    else:\n",
    "        return cv2.cvtColor(img_bgr, cv2.COLOR_BGR2RGB)"
   ]
  },
  {
   "cell_type": "markdown",
   "metadata": {},
   "source": [
    "### Make a webpage"
   ]
  },
  {
   "cell_type": "code",
   "execution_count": 4,
   "metadata": {},
   "outputs": [
    {
     "name": "stdout",
     "output_type": "stream",
     "text": [
      "../html/reg_results.html saved.\n"
     ]
    }
   ],
   "source": [
    "html_name = 'reg_results'\n",
    "path2save = '../html'\n",
    "if not os.path.exists(path2save): os.makedirs(path2save) \n",
    "imgpaths = glob('../fig/*.png')\n",
    "\n",
    "index_path = os.path.join(('../html/%s.html'%(html_name)))\n",
    "index = open(index_path, \"w\")\n",
    "\n",
    "index.write(\"<html>\")\n",
    "for dataType in dataTypeList:\n",
    "    \n",
    "    index.write(\"<body><table>\")\n",
    "    index.write(\"<caption> Reference Function: [%s] </caption>\" % (dataType))\n",
    "    index.write(\"<tr>\")\n",
    "    index.write(\"<th> name </th>\")\n",
    "    index.write(\"<th> MLP </th>\")\n",
    "    index.write(\"<th> MDN </th>\")\n",
    "    index.write(\"<th> ChoiceNet </th>\")\n",
    "    index.write(\"</tr>\")\n",
    "\n",
    "    for oRate in oRateList:\n",
    "        index.write(\"<tr>\")\n",
    "        # Name\n",
    "        index.write(\"<td>oRate: %.1f%%</td>\" % (oRate*100))\n",
    "        # MLP\n",
    "        imgpath = '../fig/fig_MLP_%s_oRate%d_var%.1e_res.png'%(dataType,oRate*100,varList[0])\n",
    "        index.write(\"<td><img src='%s'></td>\" % (imgpath))\n",
    "        # MDN\n",
    "        imgpath = '../fig/fig_MDN_%s_oRate%d_var%.1e_res.png'%(dataType,oRate*100,varList[0])\n",
    "        index.write(\"<td><img src='%s'></td>\" % (imgpath))\n",
    "        # ChoiceNet\n",
    "        imgpath = '../fig/fig_CN_%s_oRate%d_var%.1e_res.png'%(dataType,oRate*100,varList[0])\n",
    "        index.write(\"<td><img src='%s'></td>\" % (imgpath))\n",
    "        index.write(\"</tr>\")\n",
    "    # Finish table\n",
    "    index.write(\"<br>\")\n",
    "    index.write(\"</body></table>\")\n",
    "index.write(\"</html>\")\n",
    "index.close()\n",
    "\n",
    "print (\"%s saved.\"%(index_path))"
   ]
  },
  {
   "cell_type": "code",
   "execution_count": null,
   "metadata": {},
   "outputs": [],
   "source": []
  }
 ],
 "metadata": {
  "kernelspec": {
   "display_name": "Python 3",
   "language": "python",
   "name": "python3"
  },
  "language_info": {
   "codemirror_mode": {
    "name": "ipython",
    "version": 3
   },
   "file_extension": ".py",
   "mimetype": "text/x-python",
   "name": "python",
   "nbconvert_exporter": "python",
   "pygments_lexer": "ipython3",
   "version": "3.5.2"
  }
 },
 "nbformat": 4,
 "nbformat_minor": 2
}
